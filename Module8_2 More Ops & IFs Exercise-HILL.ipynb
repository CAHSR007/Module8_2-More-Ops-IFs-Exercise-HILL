{
 "cells": [
  {
   "cell_type": "markdown",
   "metadata": {},
   "source": [
    "### Exercise 1\n",
    "Ask for an exam score and store that number. If the number is greater than 100, then print out 'You cannot have an exam score higher than 100'. If the number doesn't exceeed 100 but is greater than or equal to 75, then print out 'You did great on your exam!'. Otherwise if they scored lower than 75, then print out 'You need to study harder'."
   ]
  },
  {
   "cell_type": "code",
   "execution_count": 96,
   "metadata": {},
   "outputs": [
    {
     "name": "stdout",
     "output_type": "stream",
     "text": [
      "Please enter an exam score: 100\n",
      "You did great on your exam!\n"
     ]
    }
   ],
   "source": [
    "# Ask for an exam score and store that number\n",
    "exam_score = int(input(\"Please enter an exam score: \"))\n",
    "\n",
    "# if score is greater than or equal to 75,\n",
    "\n",
    "# then print out 'You did great on your exam!'    \n",
    "  \n",
    "if 75 <= exam_score <= 100: \n",
    "    print('You did great on your exam!')\n",
    "    \n",
    "# if score is less than 75 \n",
    "# print out 'You need to study harder'    \n",
    "\n",
    "elif exam_score < 75:\n",
    "    \n",
    "    print('You need to study harder')\n",
    "    \n",
    "    \n",
    "# If the number is greater than 100, then print out \n",
    "#'You cannot have an exam score higher than 100'\n",
    "\n",
    "elif exam_score > 100: \n",
    "    \n",
    "    print('You cannot have an exam score higher than 100')    \n",
    "    "
   ]
  },
  {
   "cell_type": "code",
   "execution_count": null,
   "metadata": {},
   "outputs": [],
   "source": []
  },
  {
   "cell_type": "markdown",
   "metadata": {},
   "source": [
    "### Exercise 2\n",
    "Ask a user to enter two numbers and find their average. Then, print out the average and whether each number is below or above average. Determine if a function should be created or not.\n",
    "    "
   ]
  },
  {
   "cell_type": "code",
   "execution_count": 99,
   "metadata": {},
   "outputs": [
    {
     "name": "stdout",
     "output_type": "stream",
     "text": [
      "Please enter first number: 75\n",
      "Please enter second number: 73\n",
      "74.0\n",
      "75 is above average.\n",
      "73 below average.\n"
     ]
    }
   ],
   "source": [
    "# Ask a user to enter two numbers \n",
    "\n",
    "num1 = int(input(\"Please enter first number: \"))\n",
    "num2 = int(input(\"Please enter second number: \"))\n",
    "\n",
    "#  find their average\n",
    "\n",
    "def find_avg():\n",
    "    return (num1 + num2) / 2\n",
    "# print out the average \n",
    "# and whether each number is below or above average\n",
    "\n",
    "print(find_avg())\n",
    "\n",
    "result = find_avg()\n",
    "\n",
    "if num1 > result:\n",
    "    print(f\"{num1} is above average.\")\n",
    "if num1 < result:    \n",
    "    print(f\"{num1} below average.\")\n",
    "if num2 > result:\n",
    "     print(f\"{num2} is above average.\")\n",
    "if num2 < result:    \n",
    "    print(f\"{num2} below average.\")"
   ]
  },
  {
   "cell_type": "code",
   "execution_count": null,
   "metadata": {},
   "outputs": [],
   "source": []
  },
  {
   "cell_type": "code",
   "execution_count": null,
   "metadata": {},
   "outputs": [],
   "source": []
  },
  {
   "cell_type": "markdown",
   "metadata": {},
   "source": [
    "### Exercise 3\n",
    "Write a function to convert a test score to a grade where  \n",
    " - 90 - 100: A\n",
    " - 80 - 89:  B\n",
    " - 70 - 79:  C\n",
    " - 60 - 69:  D\n",
    " - < 60   :  F\n",
    " \n",
    "If a score is not between 0 and 100 then print out an error message. In the program, ask the user for a score and then call your function. "
   ]
  },
  {
   "cell_type": "code",
   "execution_count": 92,
   "metadata": {},
   "outputs": [
    {
     "name": "stdout",
     "output_type": "stream",
     "text": [
      "Please enter a score: 98\n"
     ]
    },
    {
     "data": {
      "text/plain": [
       "'A'"
      ]
     },
     "execution_count": 92,
     "metadata": {},
     "output_type": "execute_result"
    }
   ],
   "source": [
    "# ask the user for a score\n",
    "grade = int(input('Please enter a score: '))\n",
    "# Write a function to convert a test score to a grade\n",
    "# If a score is not between 0 and 100 \n",
    "# then print out an error message\n",
    "\n",
    "def convert_score(grade):\n",
    "    if grade < 0:\n",
    "        return 'ERROR'\n",
    "    if grade > 100:\n",
    "        return 'ERROR'\n",
    "    if 90 <= grade <= 100: \n",
    "        return 'A'\n",
    "    if 80 <= grade <= 89:\n",
    "        return 'B'\n",
    "    if 70 <= grade <= 79:\n",
    "        return 'C'\n",
    "    if 60 <= grade <= 69:\n",
    "        return 'D'\n",
    "    if 0 <= grade <= 60:\n",
    "        return 'F'\n",
    "convert_score(grade)"
   ]
  },
  {
   "cell_type": "code",
   "execution_count": null,
   "metadata": {},
   "outputs": [],
   "source": []
  },
  {
   "cell_type": "code",
   "execution_count": null,
   "metadata": {},
   "outputs": [],
   "source": []
  },
  {
   "cell_type": "markdown",
   "metadata": {},
   "source": [
    "### Exercise 4\n",
    "Convert following decimal number to a binary number by hand:\n",
    "\n",
    "    61\n",
    "    15\n",
    "    71\n",
    "    "
   ]
  },
  {
   "cell_type": "code",
   "execution_count": null,
   "metadata": {},
   "outputs": [],
   "source": [
    "# 61 = 00111101 = 0b111101\n",
    "# 15 = 00001111 = 0b1111\n",
    "# 71 = 01000111 = 0b1000111"
   ]
  },
  {
   "cell_type": "code",
   "execution_count": null,
   "metadata": {},
   "outputs": [],
   "source": []
  },
  {
   "cell_type": "markdown",
   "metadata": {},
   "source": [
    "### Exercise 5\n",
    "When a = 61 and b = 15, what is the result of following bitwise opertion? Use inline comments to show your result in a binary number. Find your answer by hand.\n",
    "\n",
    "    a & b\n",
    "    a | b\n",
    "    a ^ b\n",
    "    a >> 2\n",
    "    "
   ]
  },
  {
   "cell_type": "code",
   "execution_count": null,
   "metadata": {},
   "outputs": [],
   "source": [
    "# a = 61\n",
    "# b = 15\n",
    "# a & b = 00001101\n",
    "\n",
    "\n",
    "\n",
    "\n",
    "# a = 61\n",
    "# b = 15\n",
    "# a / b = 61 // 15 = 4\n",
    "# 00000100\n",
    "\n",
    "\n",
    "# a = 61\n",
    "# b = 15\n",
    "# a ^ b = 100010\n",
    "\n",
    "# a = 61\n",
    "# b = 15\n",
    "# a >> 2 = 001111"
   ]
  },
  {
   "cell_type": "code",
   "execution_count": null,
   "metadata": {
    "scrolled": true
   },
   "outputs": [],
   "source": [
    " "
   ]
  },
  {
   "cell_type": "code",
   "execution_count": null,
   "metadata": {},
   "outputs": [],
   "source": []
  },
  {
   "cell_type": "code",
   "execution_count": null,
   "metadata": {},
   "outputs": [],
   "source": []
  },
  {
   "cell_type": "code",
   "execution_count": null,
   "metadata": {},
   "outputs": [],
   "source": []
  }
 ],
 "metadata": {
  "kernelspec": {
   "display_name": "Python 3 (ipykernel)",
   "language": "python",
   "name": "python3"
  },
  "language_info": {
   "codemirror_mode": {
    "name": "ipython",
    "version": 3
   },
   "file_extension": ".py",
   "mimetype": "text/x-python",
   "name": "python",
   "nbconvert_exporter": "python",
   "pygments_lexer": "ipython3",
   "version": "3.11.4"
  }
 },
 "nbformat": 4,
 "nbformat_minor": 4
}
